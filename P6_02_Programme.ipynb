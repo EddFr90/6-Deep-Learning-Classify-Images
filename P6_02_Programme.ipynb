{
 "cells": [
  {
   "cell_type": "code",
   "execution_count": 1,
   "metadata": {},
   "outputs": [],
   "source": [
    "from tkinter import *\n",
    "from tkinter import filedialog\n",
    "import os\n",
    "import tkinter as tk\n",
    "import pickle\n",
    "import PIL.Image\n",
    "import tensorflow as tf\n",
    "import numpy as np\n",
    "import matplotlib.pyplot as plt\n",
    "from keras.models import load_model\n",
    "from  keras.preprocessing import image\n",
    "from keras.applications.xception import preprocess_input, decode_predictions\n",
    "from PIL import Image, ImageTk"
   ]
  },
  {
   "cell_type": "code",
   "execution_count": 2,
   "metadata": {},
   "outputs": [],
   "source": [
    "# Load the model\n",
    "my_model = tf.keras.models.load_model('xception_tr_learning.h5')\n",
    "\n",
    "# Load the dog breed list\n",
    "with open('breed_list.pkl', 'rb') as f:\n",
    "    dog_breed = pickle.load(f)"
   ]
  },
  {
   "cell_type": "code",
   "execution_count": 3,
   "metadata": {},
   "outputs": [],
   "source": [
    "# Define a load image function\n",
    "def load_img():\n",
    "    global img, image_data\n",
    "    for img_display in frame.winfo_children():\n",
    "        img_display.destroy()\n",
    "\n",
    "    image_data = filedialog.askopenfilename(initialdir=\"/\", title=\"Choose an image\",\n",
    "                                       filetypes=((\"JPG File\", \"*.jpg\"), (\"PNG File\", \"*.png\"), (\"All Files\", \"*.*\")))\n",
    "    basewidth = 150 # Processing image for displaying\n",
    "    img = Image.open(image_data)\n",
    "    img.thumbnail((400,400))\n",
    "    img = ImageTk.PhotoImage(img)\n",
    "    file_name = image_data.split('/')\n",
    "    panel = tk.Label(frame, text= str(file_name[len(file_name)-1]).upper(), fg=\"white\", bg='grey').pack()\n",
    "    panel_image = tk.Label(frame, image=img).pack()"
   ]
  },
  {
   "cell_type": "code",
   "execution_count": 4,
   "metadata": {},
   "outputs": [],
   "source": [
    "# Define a classify the image function\n",
    "def classify():\n",
    "    original = Image.open(image_data)\n",
    "    original = original.resize((299, 299), Image.ANTIALIAS)\n",
    "    numpy_image = image.img_to_array(original)\n",
    "    image_batch = np.expand_dims(numpy_image, axis=0)\n",
    "    processed_image = preprocess_input(image_batch)\n",
    "    \n",
    "    predictions = my_model.predict(processed_image)\n",
    "    label =  dog_breed[np.argmax(predictions)]\n",
    "    pred = round(np.max(predictions[0]), 2)\n",
    "    \n",
    "    spacer1 = tk.Label(frame, text=\"\", bg='grey').pack() # to add a space\n",
    "    table = tk.Label(frame, text=\"Dog Breed Prediction\", fg=\"black\", font=(\"Times\", 20, \"bold\"), bg='grey').pack()\n",
    "    result = tk.Label(frame, text=label, fg=\"white\", font=(\"Times\", 20, \"bold\"), bg='grey').pack()\n",
    "    \n",
    "    table1 = tk.Label(frame, text=(\"Probability\", pred), fg=\"white\", font=(\"Times\", 12, \"italic\"), bg=\"grey\").pack()"
   ]
  },
  {
   "cell_type": "code",
   "execution_count": 5,
   "metadata": {},
   "outputs": [],
   "source": [
    "# Define the parameters of the local browser to classify dog images\n",
    "root = tk.Tk()\n",
    "\n",
    "root.title('Image Classifier (OpenClassrooms Project - Adib Ouayjan)')\n",
    "root.resizable(True, True)\n",
    "tit = tk.Label(root, text=\"Image Classifier for Dog Breeds\", padx=25, pady=6, font=(\"Times\", 22)).pack()\n",
    "\n",
    "canvas = tk.Canvas(root, height=500, width=700, bg='grey')\n",
    "canvas.pack()\n",
    "\n",
    "frame = tk.Frame(root, bg='grey')\n",
    "frame.place(relwidth=0.8, relheight=0.8, relx=0.1, rely=0.1)\n",
    "\n",
    "chose_image = tk.Button(root, text='Choose Image',\n",
    "                        padx=35, pady=10,\n",
    "                        fg=\"white\", bg=\"darkblue\", font=(\"Times\", 18, \"bold\"), command=load_img)\n",
    "chose_image.pack(side=tk.LEFT)\n",
    "\n",
    "class_image = tk.Button(root, text='Classify Image',\n",
    "                        padx=35, pady=10,\n",
    "                        fg=\"white\", bg=\"darkorange\", font=(\"Times\", 18, \"bold\"),command=classify)\n",
    "class_image.pack(side=tk.RIGHT)\n",
    "\n",
    "root.mainloop()"
   ]
  },
  {
   "cell_type": "code",
   "execution_count": null,
   "metadata": {},
   "outputs": [],
   "source": []
  }
 ],
 "metadata": {
  "kernelspec": {
   "display_name": "Python 3",
   "language": "python",
   "name": "python3"
  },
  "language_info": {
   "codemirror_mode": {
    "name": "ipython",
    "version": 3
   },
   "file_extension": ".py",
   "mimetype": "text/x-python",
   "name": "python",
   "nbconvert_exporter": "python",
   "pygments_lexer": "ipython3",
   "version": "3.8.5"
  }
 },
 "nbformat": 4,
 "nbformat_minor": 4
}
